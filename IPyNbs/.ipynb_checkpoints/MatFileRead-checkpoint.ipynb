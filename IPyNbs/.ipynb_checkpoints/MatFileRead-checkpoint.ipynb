{
 "cells": [
  {
   "cell_type": "code",
   "execution_count": null,
   "id": "hungry-pleasure",
   "metadata": {},
   "outputs": [],
   "source": [
    "\"\"\"\n",
    "We should use the “.mat” file for calculation. \n",
    "The “.mat” file is a matlab format file but you can read it by Python.\n",
    "4-D, 5×250×352×768 matrix that is made up of injection (repeats) × frames × image vertical size × image horizontal size. \n",
    "Repeats are number of experiment trials\n",
    "Frames are the time progression of the experiments \n",
    "    Could inquire about timeseries scale and such as well\n",
    "\"\"\""
   ]
  },
  {
   "cell_type": "code",
   "execution_count": 14,
   "id": "postal-corruption",
   "metadata": {},
   "outputs": [
    {
     "name": "stdout",
     "output_type": "stream",
     "text": [
      "['saveimgs']\n"
     ]
    }
   ],
   "source": [
    "import matplotlib.pyplot as plt\n",
    "import numpy as np\n",
    "import h5py\n"
   ]
  },
  {
   "cell_type": "code",
   "execution_count": 20,
   "id": "lesbian-parameter",
   "metadata": {},
   "outputs": [
    {
     "name": "stdout",
     "output_type": "stream",
     "text": [
      "['saveimgs']\n",
      "(768, 352, 250, 5)\n"
     ]
    },
    {
     "data": {
      "text/plain": [
       "'\\nThe shape of the dset is (768, 352, 250, 5) \\nThere are \\n\\n'"
      ]
     },
     "execution_count": 20,
     "metadata": {},
     "output_type": "execute_result"
    }
   ],
   "source": [
    "#First step is working with file object - acts like a python dictionary\n",
    "matfile = \"/home/will/projects/school/engdes/TransmissionOfSpray.mat\"\n",
    "matf = h5py.File(matfile, \"r\")\n",
    "\n",
    "print(list(matf.keys())) #check key of file object\n",
    "#Then, we move the file object over to a dataset object in order to manipulate as an array\n",
    "dset = matf[\"saveimgs\"]\n",
    "dsets = dset.shape\n",
    "print(dsets)\n",
    "\n",
    "\"\"\"\n",
    "The shape of the dset is (768, 352, 250, 5) --- makes sense!\n",
    "This is because MatLab matrices are organized column wise like Fortran while Python organizes matrices\n",
    "as arrays that are row wise. Therefore, we can simply take the transpose of the dataset and convert to np array\n",
    "\"\"\""
   ]
  },
  {
   "cell_type": "code",
   "execution_count": 21,
   "id": "informative-clerk",
   "metadata": {},
   "outputs": [],
   "source": [
    "#Rearranging into a list with a more intuitive shape to work with given how python organizes arrays\n",
    "#Five \n",
    "\n",
    "List_Dset_Arrays = []\n",
    "\n",
    "for i in range(dsets[-1]):\n",
    "    datarr = np.array(dset).astype(np.int8)\n",
    "    datarr = datarr.T\n",
    "    List_Dset_Arrays.append(datarr)"
   ]
  },
  {
   "cell_type": "code",
   "execution_count": null,
   "id": "distinct-thumbnail",
   "metadata": {},
   "outputs": [],
   "source": []
  }
 ],
 "metadata": {
  "kernelspec": {
   "display_name": "Python 3",
   "language": "python",
   "name": "python3"
  },
  "language_info": {
   "codemirror_mode": {
    "name": "ipython",
    "version": 3
   },
   "file_extension": ".py",
   "mimetype": "text/x-python",
   "name": "python",
   "nbconvert_exporter": "python",
   "pygments_lexer": "ipython3",
   "version": "3.6.9"
  }
 },
 "nbformat": 4,
 "nbformat_minor": 5
}
