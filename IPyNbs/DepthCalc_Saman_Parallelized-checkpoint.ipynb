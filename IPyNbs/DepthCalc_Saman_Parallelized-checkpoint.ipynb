{
 "cells": [
  {
   "cell_type": "markdown",
   "id": "going-injury",
   "metadata": {},
   "source": [
    "## Original Code\n",
    "<br> </br>\n",
    "Saman originally wrote this code to calculate the thickness profile based off of the data points taken from slices in 3D space. The first cell has the original code but any cells after that have the parallelized code."
   ]
  },
  {
   "cell_type": "code",
   "execution_count": 10,
   "id": "known-century",
   "metadata": {},
   "outputs": [
    {
     "ename": "SyntaxError",
     "evalue": "invalid syntax (<ipython-input-10-27b85e6c782a>, line 1)",
     "output_type": "error",
     "traceback": [
      "\u001b[0;36m  File \u001b[0;32m\"<ipython-input-10-27b85e6c782a>\"\u001b[0;36m, line \u001b[0;32m1\u001b[0m\n\u001b[0;31m    @echo = F\u001b[0m\n\u001b[0m          ^\u001b[0m\n\u001b[0;31mSyntaxError\u001b[0m\u001b[0;31m:\u001b[0m invalid syntax\n"
     ]
    }
   ],
   "source": [
    "\"\"\"\n",
    "# -*- coding: utf-8 -*-\n",
    "Created on Sat Nov 14 16:51:43 2020\n",
    "\n",
    "@author: Saman Taba\n",
    "\"\"\"\n",
    "\n",
    "\"\"\"\n",
    "import matplotlib.pyplot as plt\n",
    "import numpy as np\n",
    "from scipy import optimize\n",
    "import pandas as pd\n",
    "\n",
    "PositionData = pd.read_excel('PositionVertex_XY13.xlsx', sheet_name='PositionVertex_XY13', header=0)\n",
    "PosX = PositionData['X ']\n",
    "PosY = PositionData[' Y ']\n",
    "PosZ = PositionData[' Z']\n",
    "#%%\n",
    "\n",
    "def IndexMatcher(arr1, arr2):\n",
    "    Index = []\n",
    "    for i in range(len(arr1)):\n",
    "        for j in range(len(arr2)):\n",
    "            if arr1[i] == arr2[j]:\n",
    "                Index.append(arr1[i])\n",
    "    return Index\n",
    "\n",
    "#%%\n",
    "\n",
    "X = np.arange(-20, 21)\n",
    "Y = np.arange(-20, 21)\n",
    "Depth = np.zeros([len(X)*len(Y), 3])\n",
    "\n",
    "A = np.where(PosX == -8)[0]\n",
    "B = np.where(PosY == -1)[0]\n",
    "\n",
    "print(IndexMatcher(A, B))\n",
    "\n",
    "Length = len(X)\n",
    "c = 0\n",
    "for i in range(Length):\n",
    "    IndX = np.where(PosX == X[i])[0]\n",
    "    for j in range(Length):\n",
    "        IndY = np.where(PosY == Y[j])[0]\n",
    "        if len(IndX) != 0 and len(IndY) != 0:\n",
    "            N = IndexMatcher(IndX, IndY)\n",
    "            if len(N) == 2:\n",
    "                A = N[0]\n",
    "                B = N[1]\n",
    "                Thickness = np.abs(PosZ[A] - PosZ[B])\n",
    "            elif len(N) == 4:\n",
    "                A = N[0]\n",
    "                B = N[1]\n",
    "                C = N[2]\n",
    "                D = N[3]\n",
    "                \n",
    "                Thickness = np.abs(PosZ[A] - PosZ[B]) + np.abs(PosZ[C] - PosZ[D]) \n",
    "            else:\n",
    "                Thickness = 0\n",
    "        else:\n",
    "            Thickness = 0\n",
    "        \n",
    "        Depth[c, 0] = X[i]\n",
    "        Depth[c, 1] = Y[j]\n",
    "        Depth[c, 2] = Thickness\n",
    "        c = c + 1\n",
    "#%%\n",
    "DepthX = Depth[:,0]\n",
    "DepthY = Depth[:,1]\n",
    "DepthZ = Depth[:,2]\n",
    "\n",
    "x, y = np.meshgrid(X, Y)\n",
    "\n",
    "ThicknessProfileT = np.zeros([len(Y), len(X)])\n",
    "c = 0\n",
    "for i in range(len(X)):\n",
    "    for j in range(len(Y)):\n",
    "        ThicknessProfileT[i, j] = DepthZ[c]\n",
    "        c = c+1\n",
    "\n",
    "Z = np.transpose(ThicknessProfileT)\n",
    "plt.figure()\n",
    "plt.contourf(x, y, Z, 20, cmap='RdGy', alpha=0.8)\n",
    "#plt.colorbar();\n",
    "#plt.contour(x, y, Z,  colors='black')\n",
    "#plt.imshow(Z, cmap='RdGy', alpha=0.5)\n",
    "cbar = plt.colorbar()\n",
    "cbar.set_label('Thickness')\n",
    "plt.xlabel('X Coordinate')\n",
    "plt.ylabel('Y Coordinate')\n",
    "plt.tight_layout()\n",
    "plt.show()\n",
    "\n",
    "#%%\n",
    "'''\n",
    "Length = len(PosX)\n",
    "X = []\n",
    "Y = []\n",
    "Z = []\n",
    "\n",
    "for i in range(Length):\n",
    "    for j in range(i+1,Length):\n",
    "        if PosX[i] == PosX[j] and PosY[i] == PosY[j]:\n",
    "            depth = np.abs(PosZ[i] - PosZ[j])\n",
    "            X.append(PosX[i])\n",
    "            Y.append(PosY[i])\n",
    "            Z.append(depth)\n",
    "\n",
    "from mpl_toolkits.mplot3d import Axes3D\n",
    "\n",
    "fig = plt.figure()\n",
    "ax = fig.gca(projection='3d')\n",
    "ax.scatter(X,Y,Z, s=2)\n",
    "'''\n",
    "\"\"\""
   ]
  },
  {
   "cell_type": "markdown",
   "id": "compact-oracle",
   "metadata": {},
   "source": [
    "Typical PyOpenCL Program has the following elements:\n",
    "1. Identify platform\n",
    "    - Depends on hardware available\n",
    "2. Find Device ID\n",
    "    - Gives specific hardware address/ID that can be parallelized\n",
    "3. Create context\n",
    "    - Determine which hardware will be utilized\n",
    "4. Create command queue in ctx\n",
    "    - Not sure what this does but it's needed\n",
    "5. Create program source and kernel entry point\n",
    "    - Kernel size optimally determined based off of global\n",
    "6. Create buffers for data handling\n",
    "7. Kernel program\n",
    "8. Build + launch the kern\n",
    "9. Read the output buffer + clear it (if needed)\n"
   ]
  },
  {
   "cell_type": "code",
   "execution_count": 2,
   "id": "official-maldives",
   "metadata": {},
   "outputs": [],
   "source": [
    "# -*- coding: utf-8 -*-\n",
    "\"\"\"\n",
    "Created on Sat Nov 14 16:51:43 2020\n",
    "\n",
    "@author: Saman Taba\n",
    "    #initial implementation\n",
    "@co-author: Will Ramos\n",
    "    #parallelization\n",
    "\"\"\"\n",
    "\n",
    "import matplotlib.pyplot as plt\n",
    "import numpy as np\n",
    "from scipy import optimize\n",
    "import pandas as pd\n",
    "import pyopencl as cl"
   ]
  },
  {
   "cell_type": "code",
   "execution_count": 12,
   "id": "environmental-dollar",
   "metadata": {},
   "outputs": [
    {
     "name": "stdout",
     "output_type": "stream",
     "text": [
      "[<pyopencl.Device 'gfx1010' on 'AMD Accelerated Parallel Processing' at 0x23daca0>]\n"
     ]
    }
   ],
   "source": [
    "##Setting the context to utilize GPU\n",
    "platform = cl.get_platforms()\n",
    "my_gpu_devices = platform[0].get_devices(device_type=cl.device_type.GPU)\n",
    "\n",
    "ctx = cl.Context(devices=my_gpu_devices)\n",
    "queue = cl.CommandQueue(ctx)\n",
    "\n",
    "print(my_gpu_devices)"
   ]
  },
  {
   "cell_type": "code",
   "execution_count": 9,
   "id": "thermal-blair",
   "metadata": {},
   "outputs": [],
   "source": [
    "#Useful?\n",
    "from pyopencl.elementwise import ElementwiseKernel"
   ]
  },
  {
   "cell_type": "code",
   "execution_count": 11,
   "id": "swiss-missouri",
   "metadata": {},
   "outputs": [
    {
     "name": "stdout",
     "output_type": "stream",
     "text": [
      "[479, 1977, 2474, 2567]\n"
     ]
    }
   ],
   "source": [
    "#Numpy arrays to be passed to GPU to then compute thickness\n",
    "    #ie. data created/init.\n",
    "PositionData = pd.read_excel('PositionVertex_XY13.xls', sheet_name='PositionVertex_XY13', header=0)\n",
    "PosX = np.array(PositionData['X ']).astype(np.float32)\n",
    "PosY = np.array(PositionData[' Y ']).astype(np.float32)\n",
    "PosZ = np.array(PositionData[' Z']).astype(np.float32)\n",
    "#Note: I reduced the precision from FP64 to FP32\n",
    "    #allows for improved speed and handling\n",
    "\n",
    "\n",
    "##Setting the memory buffer\n",
    "#Allocates space for data set to be imported into GPU memory\n",
    "mf = cl.mem_flags\n",
    "arr_dev = cl.Buffer(ctx, mf.READ_WRITE, size=arr.nbytes)\n",
    "#actually writes the data\n",
    "cl.enqueue_write_buffer(queue, arr_dev, arr)\n",
    "\n",
    "\n",
    "\"\"\"\n",
    "Note that these are the original functions, but we will be \n",
    "parallelizing the algorithms and outlining them elswhere below\n",
    "as PyOpenCL code.\n",
    "\"\"\"\n",
    "#Compares sequentially across the arrays\n",
    "def IndexMatcher(arr1, arr2):\n",
    "    Index = []\n",
    "    for i in range(len(arr1)):\n",
    "        for j in range(len(arr2)):\n",
    "            if arr1[i] == arr2[j]:\n",
    "                Index.append(arr1[i])\n",
    "    return Index\n",
    "\n",
    "#TODO\n",
    "#Need to find a way to automatically set the limits to bounds...\n",
    "X = np.arange(-20, 21)\n",
    "Y = np.arange(-20, 21)\n",
    "Depth = np.zeros([len(X)*len(Y), 3])\n",
    "\n",
    "A = np.where(PosX == -8)[0]\n",
    "B = np.where(PosY == -1)[0]\n",
    "\n",
    "print(IndexMatcher(A, B))\n",
    "\n",
    "Length = len(X)\n",
    "c = 0\n",
    "for i in range(Length):\n",
    "    IndX = np.where(PosX == X[i])[0]\n",
    "    for j in range(Length):\n",
    "        IndY = np.where(PosY == Y[j])[0]\n",
    "        if len(IndX) != 0 and len(IndY) != 0:\n",
    "            N = IndexMatcher(IndX, IndY)\n",
    "            if len(N) == 2:\n",
    "                A = N[0]\n",
    "                B = N[1]\n",
    "                Thickness = np.abs(PosZ[A] - PosZ[B])\n",
    "            elif len(N) == 4:\n",
    "                A = N[0]\n",
    "                B = N[1]\n",
    "                C = N[2]\n",
    "                D = N[3]\n",
    "                \n",
    "                Thickness = np.abs(PosZ[A] - PosZ[B]) + np.abs(PosZ[C] - PosZ[D]) \n",
    "            else:\n",
    "                Thickness = 0\n",
    "        else:\n",
    "            Thickness = 0\n",
    "        \n",
    "        Depth[c, 0] = X[i]\n",
    "        Depth[c, 1] = Y[j]\n",
    "        Depth[c, 2] = Thickness\n",
    "        c = c + 1"
   ]
  },
  {
   "cell_type": "code",
   "execution_count": 5,
   "id": "hungarian-allen",
   "metadata": {},
   "outputs": [
    {
     "data": {
      "image/png": "[encoded data removed]",
      "text/plain": [
       "<Figure size 432x288 with 2 Axes>"
      ]
     },
     "metadata": {
      "needs_background": "light"
     },
     "output_type": "display_data"
    }
   ],
   "source": [
    "#%%\n",
    "DepthX = Depth[:,0]\n",
    "DepthY = Depth[:,1]\n",
    "DepthZ = Depth[:,2]\n",
    "\n",
    "x, y = np.meshgrid(X, Y)\n",
    "\n",
    "ThicknessProfileT = np.zeros([len(Y), len(X)])\n",
    "c = 0\n",
    "for i in range(len(X)):\n",
    "    for j in range(len(Y)):\n",
    "        ThicknessProfileT[i, j] = DepthZ[c]\n",
    "        c = c+1\n",
    "\n",
    "Z = np.transpose(ThicknessProfileT)\n",
    "plt.figure()\n",
    "plt.contourf(x, y, Z, 20, cmap='RdGy', alpha=0.8)\n",
    "#plt.colorbar();\n",
    "#plt.contour(x, y, Z,  colors='black')\n",
    "#plt.imshow(Z, cmap='RdGy', alpha=0.5)\n",
    "cbar = plt.colorbar()\n",
    "cbar.set_label('Thickness')\n",
    "plt.xlabel('X Coordinate')\n",
    "plt.ylabel('Y Coordinate')\n",
    "plt.tight_layout()\n",
    "plt.show()\n",
    "\n"
   ]
  },
  {
   "cell_type": "code",
   "execution_count": 6,
   "id": "actual-information",
   "metadata": {},
   "outputs": [
    {
     "data": {
      "text/plain": [
       "\"\\nLength = len(PosX)\\nX = []\\nY = []\\nZ = []\\n\\nfor i in range(Length):\\n    for j in range(i+1,Length):\\n        if PosX[i] == PosX[j] and PosY[i] == PosY[j]:\\n            depth = np.abs(PosZ[i] - PosZ[j])\\n            X.append(PosX[i])\\n            Y.append(PosY[i])\\n            Z.append(depth)\\n\\nfrom mpl_toolkits.mplot3d import Axes3D\\n\\nfig = plt.figure()\\nax = fig.gca(projection='3d')\\nax.scatter(X,Y,Z, s=2)\\n\""
      ]
     },
     "execution_count": 6,
     "metadata": {},
     "output_type": "execute_result"
    }
   ],
   "source": [
    "#%%\n",
    "\n",
    "'''\n",
    "Length = len(PosX)\n",
    "X = []\n",
    "Y = []\n",
    "Z = []\n",
    "\n",
    "for i in range(Length):\n",
    "    for j in range(i+1,Length):\n",
    "        if PosX[i] == PosX[j] and PosY[i] == PosY[j]:\n",
    "            depth = np.abs(PosZ[i] - PosZ[j])\n",
    "            X.append(PosX[i])\n",
    "            Y.append(PosY[i])\n",
    "            Z.append(depth)\n",
    "\n",
    "from mpl_toolkits.mplot3d import Axes3D\n",
    "\n",
    "fig = plt.figure()\n",
    "ax = fig.gca(projection='3d')\n",
    "ax.scatter(X,Y,Z, s=2)\n",
    "'''"
   ]
  }
 ],
 "metadata": {
  "kernelspec": {
   "display_name": "Python 3",
   "language": "python",
   "name": "python3"
  },
  "language_info": {
   "codemirror_mode": {
    "name": "ipython",
    "version": 3
   },
   "file_extension": ".py",
   "mimetype": "text/x-python",
   "name": "python",
   "nbconvert_exporter": "python",
   "pygments_lexer": "ipython3",
   "version": "3.6.9"
  }
 },
 "nbformat": 4,
 "nbformat_minor": 5
}
